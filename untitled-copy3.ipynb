{
 "cells": [
  {
   "cell_type": "code",
   "execution_count": 127,
   "metadata": {},
   "outputs": [
    {
     "name": "stdout",
     "output_type": "stream",
     "text": [
      " Temperature not specified!\n",
      " Proceeding with default T = 300 K\n"
     ]
    },
    {
     "data": {
      "image/png": "[encoded data removed]",
      "text/plain": [
       "<Figure size 432x288 with 1 Axes>"
      ]
     },
     "metadata": {
      "needs_background": "light"
     },
     "output_type": "display_data"
    },
    {
     "name": "stdout",
     "output_type": "stream",
     "text": [
      "617\n",
      "6.361971774588674e-17\n",
      "3.543271635817909e-07\n"
     ]
    }
   ],
   "source": [
    "from wptherml.wpml import multilayer\n",
    "from matplotlib import pyplot as plt\n",
    "from wptherml.datalib import datalib\n",
    "import numpy as np\n",
    "from numpy import linalg as LA\n",
    "import math\n",
    "\n",
    "structure = {\n",
    "\n",
    "        'Material_List': ['Air', 'Ag', 'Air'],\n",
    "        'Thickness_List': [0,  200e-9, 0],\n",
    "        'Lambda_List': [200e-9, 700e-9, 2000],\n",
    "     \n",
    "        }\n",
    "\n",
    "### create the silver object - call it sphere for no particular reason\n",
    "sphere = multilayer(structure)\n",
    "### get the refractive index of Ag (since it is layer 1 based on the structure above)\n",
    "n_Ag = sphere.layer_ri(1)\n",
    "### get the dielectric function of Ag\n",
    "eps_Ag = n_Ag * n_Ag\n",
    "\n",
    "'''Lets compute the Mie theory absorption of a 3 nm Ag particle in water, which \n",
    "   has refractive index = 1.33, here!'''\n",
    "r = 3e-9 ### fill in radius here, use meters!\n",
    "eps_s =  1.00 ### fill in dielectric function of water here!\n",
    "quotient = (eps_Ag - eps_s)/(eps_Ag + 2*eps_s) ### compute the quotient whose Imaginary part you need from Mie theory expression here\n",
    "alpha = 4*np.pi*r**3 * quotient\n",
    "pre = 2*np.pi/sphere.lambda_array ### compute pre-factor that depends on wavelength and radius here!\n",
    "sigma_abs = pre*np.imag(alpha) ### compute full absorption spectrum here!\n",
    "\n",
    "plt.plot(1240/(sphere.lambda_array*1e9), sigma_abs, 'red')\n",
    "plt.xlim(1.5, 4)\n",
    "plt.show()\n",
    "\n",
    "lidx = np.argmax(sigma_abs)\n",
    "print(lidx)\n",
    "print(sigma_abs[lidx])\n",
    "print(sphere.lambda_array[lidx])"
   ]
  },
  {
   "cell_type": "code",
   "execution_count": 128,
   "metadata": {},
   "outputs": [],
   "source": [
    "from matplotlib import pyplot as plt\n",
    "import numpy as np\n",
    "from numpy import linalg as LA\n",
    "import math\n",
    "def Euler (HA0, muA, VintA, gammaA, DA, h, t, tau):  \n",
    "    ###Defined Hamiltonian at the current time    \n",
    "    HA = HA0- EField(t, tau) * muA \n",
    "    ### Define the time derivarive of our density matrix at the current time\n",
    "    ### by evaluating the Liouville-Lindblad equation\n",
    "    DAdot = Liouville(HA,DA) + Lindblad(DA, gammaA)\n",
    "    ###\n",
    "    DAnew = DA + h*DAdot\n",
    "    return DAnew\n",
    "\n",
    "def Lindblad(DA, gammaA):\n",
    "    dim = len(DA)\n",
    "    LDA = np.zeros_like(DA)\n",
    "    ### need |g><g|\n",
    "    bra_1 = CreateBas(dim, 0)\n",
    "    gm = Form_Rho(bra_1)\n",
    "    \n",
    "    for k in range(1,dim):\n",
    "        bra_k = CreateBas(dim, k)\n",
    "        km = Form_Rho(bra_k)\n",
    "        \n",
    "        ### first term 2*gam*<k|D|k>|g><g|\n",
    "        t1 = 2*gammaA*DA[k][k]*gm\n",
    "        ### second term is |k><k|*D\n",
    "        t2 = np.dot(km,DA)\n",
    "        ### third term is  D*|k><k|\n",
    "        t3 = np.dot(DA, km)\n",
    "        LDA = LDA + t1 - gammaA*t2 - gammaA*t3\n",
    "        \n",
    "    return LDA\n",
    "       \n",
    "### Take commutator of H and D to give Ddot\n",
    "def Liouville(HA, DA):\n",
    "    ci = 0.+1j\n",
    "    return -ci*(np.dot(HA,DA) - np.dot(DA, HA))\n",
    "\n",
    "def EField(t, tau):\n",
    "    Ef = 0\n",
    "    if t<tau:\n",
    "        Ef = 0.001*np.sin(t*np.pi/tau)*np.sin(t*np.pi/tau)*np.sin(0.1192*t)\n",
    "    return Ef\n",
    "\n",
    "def Form_Rho(Psi):\n",
    "\n",
    "    DA = np.outer(Psi,np.conj(Psi))\n",
    "    return DA\n",
    "\n",
    "### Creates basis vector for state k\n",
    "### k=0 -> ground state, k=1 -> first excited-state, etc\n",
    "def CreateBas(dim, k):\n",
    "    bas = np.zeros(dim)\n",
    "    bas[k] = 1\n",
    "    return bas\n",
    "\n",
    "def Euler (HB0, muB, VintB, gammaB, DB, h, t, tau):  \n",
    "    ###Defined Hamiltonian at the current time    \n",
    "    HB = HB0- EField(t, tau) * muB \n",
    "    ### Define the time derivarive of our density matrix at the current time\n",
    "    ### by evaluating the Liouville-Lindblad equation\n",
    "    DBdot = Liouville(HB,DB) + Lindblad(DB, gammaB)\n",
    "    ###\n",
    "    DBnew = DB + h*DBdot\n",
    "    return DBnew\n",
    "\n",
    "def Lindblad(DB, gammaB):\n",
    "    dim = len(DB)\n",
    "    LDB = np.zeros_like(DB)\n",
    "    ### need |g><g|\n",
    "    bra_1 = CreateBas(dim, 0)\n",
    "    gm = Form_Rho(bra_1)\n",
    "    \n",
    "    for k in range(1,dim):\n",
    "        bra_k = CreateBas(dim, k)\n",
    "        km = Form_Rho(bra_k)\n",
    "        \n",
    "        ### first term 2*gam*<k|D|k>|g><g|\n",
    "        t1 = 2*gammaB*DB[k][k]*gm\n",
    "        ### second term is |k><k|*D\n",
    "        t2 = np.dot(km,DB)\n",
    "        ### third term is  D*|k><k|\n",
    "        t3 = np.dot(DB, km)\n",
    "        LDB = LDB + t1 - gammaB*t2 - gammaB*t3\n",
    "        \n",
    "    return LDB\n",
    "       \n",
    "### Take commutator of H and D to give Ddot\n",
    "def Liouville(HB, DB):\n",
    "    ci = 0.+1j\n",
    "    return -ci*(np.dot(HB,DB) - np.dot(DB, HB))\n",
    "\n",
    "def EField(t, tau):\n",
    "    Ef = 0\n",
    "    if t<tau:\n",
    "        Ef = 0.0001*np.sin(t*np.pi/tau)*np.sin(t*np.pi/tau)*np.sin(0.07423*t)\n",
    "        #Ef = 0.00001*np.sin(0.1192*t)\n",
    "        #Ef = 0.\n",
    "        #if t<tau\n",
    "        # Ef = 0.001*np.sin(t*np.pi/tau)*np.sin(t*np.pi/tau)*np.sin(0.1192*t)\n",
    "    return Ef\n",
    "\n",
    "def Form_Rho(Psi):\n",
    "\n",
    "    DB = np.outer(Psi,np.conj(Psi))\n",
    "    return DB\n",
    "\n",
    "### Creates basis vector for state k\n",
    "### k=0 -> ground state, k=1 -> first excited-state, etc\n",
    "def CreateBas(dim, k):\n",
    "    bas = np.zeros(dim)\n",
    "    bas[k] = 1\n",
    "    return bas\n",
    "\n",
    "### Vint will take three vectors: \n",
    "### R the separation vector, \n",
    "### MUA is the vector representing the\n",
    "### transition dipole moment on one of your particles (does not\n",
    "### change with time) and MUB is the vector\n",
    "### representing the instantaneous dipole moment on the other particle\n",
    "### (it does change with time)\n",
    "def Vint(R, MUA, MUB):\n",
    "    n = 1\n",
    "    normr = math.sqrt(np.dot(R,R))\n",
    "    oer2 = 1./(normr**2)\n",
    "    pre = 1./(n**2 * normr**3)\n",
    "    \n",
    "    t1 = np.dot(MUA,MUB)\n",
    "    t2 = np.dot(MUA,R)\n",
    "    t3 = np.dot(R,MUB)\n",
    "    \n",
    "    Vint_val = pre*(t1 - 3*oer2*t2*t3)\n",
    "    \n",
    "    return Vint_val"
   ]
  },
  {
   "cell_type": "code",
   "execution_count": 129,
   "metadata": {},
   "outputs": [
    {
     "data": {
      "text/plain": [
       "'  A second RK4 function is not needed, the original RK4 function\\n    will work for DA and DB \\ndef RK4(HB0, muB, VintB, gammaB, DB, h, t, tau):\\n    k1 = np.zeros_like(DB)\\n    k2 = np.zeros_like(DB)\\n    k3 = np.zeros_like(DB)\\n    k4 = np.zeros_like(DB)\\n    DB1 = np.zeros_like(DB)\\n    DB2 = np.zeros_like(DB)\\n    DB3 = np.zeros_like(DB)\\n    DB4 = np.zeros_like(DB)\\n    DBf = np.zeros_like(DB)\\n    \\n    ### Get k1\\n    HB1 = HB0 - EField(t, tau)*muB + VintB\\n    DB1 = DB    \\n    k1 = h*Liouville(HB1,DB1) + h*Lindblad(DB1, gammaB)\\n    \\n    ## Update H and D and get k2\\n    HB2 = HB0 - EField(t+h/2, tau)*muB \\n    DB2 = DB+k1/2.\\n    k2 = h*Liouville(HB2, DB2) + h*Lindblad(DB2, gammaB)\\n    \\n    ### UPdate H and D and get k3\\n    HB3 = HB2\\n    DB3 = DB+k2/2\\n    k3 = h*Liouville(HB3, DB3) + h*Lindblad(DB3, gammaB) \\n    \\n    ### Update H and D and get K4\\n    HB4 = HB0 - EField(t+h, tau)*muB + VintB\\n    DB4 = DB+k3\\n    k4 = h*Liouville(HB4, DB4) + h*Lindblad(DB4, gammaB)\\n    \\n    DBf = DB + (1/6.)*(k1 + 2.*k2 + 2*k3 + k4)\\n    return DBf\\n'"
      ]
     },
     "execution_count": 129,
     "metadata": {},
     "output_type": "execute_result"
    }
   ],
   "source": [
    "def RK4(H0, mu, Vint, gamma, D, h, t, tau):\n",
    "    k1 = np.zeros_like(D)\n",
    "    k2 = np.zeros_like(D)\n",
    "    k3 = np.zeros_like(D)\n",
    "    k4 = np.zeros_like(D)\n",
    "    D1 = np.zeros_like(D)\n",
    "    D2 = np.zeros_like(D)\n",
    "    D3 = np.zeros_like(D)\n",
    "    D4 = np.zeros_like(D)\n",
    "    Df = np.zeros_like(D)\n",
    "    \n",
    "    ### Get k1\n",
    "    H1 = H0 - EField(t, tau)*mu + Vint\n",
    "    D1 = D    \n",
    "    k1 = h*Liouville(H1,D1) + h*Lindblad(D1, gamma)\n",
    "    \n",
    "    ## Update H and D and get k2\n",
    "    H2 = H0 - EField(t+h/2, tau)*mu \n",
    "    D2 = D+k1/2.\n",
    "    k2 = h*Liouville(H2, D2) + h*Lindblad(H2, gamma)\n",
    "    \n",
    "    ### UPdate H and D and get k3\n",
    "    H3 = H2\n",
    "    D3 = D+k2/2\n",
    "    k3 = h*Liouville(H3, D3) + h*Lindblad(D3, gamma) \n",
    "    \n",
    "    ### Update H and D and get K4\n",
    "    H4 = H0 - EField(t+h, tau)*mu + Vint\n",
    "    D4 = D+k3\n",
    "    k4 = h*Liouville(H4, D4) + h*Lindblad(D4, gamma)\n",
    "    \n",
    "    Df = D + (1/6.)*(k1 + 2.*k2 + 2*k3 + k4)\n",
    "    return Df\n",
    " \n",
    "'''  A second RK4 function is not needed, the original RK4 function\n",
    "    will work for DA and DB \n",
    "def RK4(HB0, muB, VintB, gammaB, DB, h, t, tau):\n",
    "    k1 = np.zeros_like(DB)\n",
    "    k2 = np.zeros_like(DB)\n",
    "    k3 = np.zeros_like(DB)\n",
    "    k4 = np.zeros_like(DB)\n",
    "    DB1 = np.zeros_like(DB)\n",
    "    DB2 = np.zeros_like(DB)\n",
    "    DB3 = np.zeros_like(DB)\n",
    "    DB4 = np.zeros_like(DB)\n",
    "    DBf = np.zeros_like(DB)\n",
    "    \n",
    "    ### Get k1\n",
    "    HB1 = HB0 - EField(t, tau)*muB + VintB\n",
    "    DB1 = DB    \n",
    "    k1 = h*Liouville(HB1,DB1) + h*Lindblad(DB1, gammaB)\n",
    "    \n",
    "    ## Update H and D and get k2\n",
    "    HB2 = HB0 - EField(t+h/2, tau)*muB \n",
    "    DB2 = DB+k1/2.\n",
    "    k2 = h*Liouville(HB2, DB2) + h*Lindblad(DB2, gammaB)\n",
    "    \n",
    "    ### UPdate H and D and get k3\n",
    "    HB3 = HB2\n",
    "    DB3 = DB+k2/2\n",
    "    k3 = h*Liouville(HB3, DB3) + h*Lindblad(DB3, gammaB) \n",
    "    \n",
    "    ### Update H and D and get K4\n",
    "    HB4 = HB0 - EField(t+h, tau)*muB + VintB\n",
    "    DB4 = DB+k3\n",
    "    k4 = h*Liouville(HB4, DB4) + h*Lindblad(DB4, gammaB)\n",
    "    \n",
    "    DBf = DB + (1/6.)*(k1 + 2.*k2 + 2*k3 + k4)\n",
    "    return DBf\n",
    "'''"
   ]
  },
  {
   "cell_type": "code",
   "execution_count": 135,
   "metadata": {},
   "outputs": [
    {
     "name": "stderr",
     "output_type": "stream",
     "text": [
      "C:\\Users\\12014\\Anaconda3\\lib\\site-packages\\ipykernel_launcher.py:91: ComplexWarning: Casting complex values to real discards the imaginary part\n",
      "C:\\Users\\12014\\Anaconda3\\lib\\site-packages\\ipykernel_launcher.py:103: ComplexWarning: Casting complex values to real discards the imaginary part\n"
     ]
    },
    {
     "name": "stdout",
     "output_type": "stream",
     "text": [
      "0.0006283185307179586\n"
     ]
    },
    {
     "data": {
      "image/png": "[encoded data removed]",
      "text/plain": [
       "<Figure size 432x288 with 1 Axes>"
      ]
     },
     "metadata": {
      "needs_background": "light"
     },
     "output_type": "display_data"
    }
   ],
   "source": [
    "### Set up some parameters for the quantum dynamics simulation\n",
    "dt = 0.01\n",
    "tau = 50. #150.\n",
    "#gammaA = 0.0017\n",
    "#gammaB = 0.0017\n",
    "gammaA = 0.005512\n",
    "gammaB = 0.005512\n",
    "eps0 = 8.854e-12\n",
    "muA = 8.854e-30\n",
    "muB = 8.854e-30\n",
    "mu_au_to_si = 8.47835326e-30\n",
    "E_au_to_si = 5.14220652e11\n",
    "#mu_zA = 58.\n",
    "#mu_zB = 58.\n",
    "mu_zA = 176.356700\n",
    "mu_zB = 176.356700\n",
    "R =10000\n",
    "### Create some arrays\n",
    "MUZA = np.zeros((2,2),dtype=complex)\n",
    "MUZB = np.zeros((2,2),dtype=complex)\n",
    "VintA = np.zeros((2,2),dtype=complex)\n",
    "VintB = np.zeros((2,2),dtype=complex)\n",
    "### Density matrix for RK4 updates\n",
    "DA_RK4 = np.zeros((2,2),dtype=complex)\n",
    "DB_RK4 = np.zeros((2,2),dtype=complex)\n",
    "### Density matrix for Euler updates\n",
    "HA0 = np.zeros((2,2))\n",
    "HB0 = np.zeros((2,2))\n",
    "\n",
    "### initialize values of the arrays for Hamiltonian and Density matrices\n",
    "#HA0[1][1] = 0.1275\n",
    "#HB0[1][1] = 0.1275\n",
    "HA0[1][1] = 0.075042\n",
    "HB0[1][1] = 0.075042\n",
    "DA_RK4[0][0] = 1.+0j\n",
    "DB_RK4[0][0] = 1.+0j\n",
    "MUZA[0][1] = mu_zA\n",
    "MUZA[1][0] = mu_zA\n",
    "MUZB[0][1] = mu_zB\n",
    "MUZB[1][0] = mu_zB\n",
    "\n",
    "### need vectors to pass to the function Vint...\n",
    "### these vectors will store information about R, MUZA, MUZB (all static)\n",
    "### and we will also create additional vectors that store the time-dependent \n",
    "### quantities\n",
    "### arrays for static quantities first\n",
    "### there are 3 components for the x-, y-, and z- components\n",
    "### of these vector quantities\n",
    "MUA_VEC = np.zeros(3)\n",
    "MUB_VEC = np.zeros(3)\n",
    "R_VEC = np.zeros(3)\n",
    "### actually assign the values of the static quantities...\n",
    "### note only the z-component (index 2) is non-zero for now!\n",
    "MUA_VEC[2] = mu_zA\n",
    "MUB_VEC[2] = mu_zA\n",
    "R_VEC[2] = R\n",
    "### time-dependent quantities - still x-, y-, and z- components\n",
    "### in principle, though only the z-component (index 2) will be non-zero\n",
    "MUA_OF_T = np.zeros(3)\n",
    "MUB_OF_T = np.zeros(3)\n",
    "\n",
    "\n",
    "\n",
    "### create arrays for time-dependent quantities\n",
    "Nsteps = 1000000\n",
    "ez = np.zeros(Nsteps)\n",
    "### array for mu(t) for RK4 updates\n",
    "muA_of_t_rk4 = np.zeros(Nsteps,dtype=complex)\n",
    "### array for mu(t) for Euler updates\n",
    "muB_of_t_rk4 = np.zeros(Nsteps,dtype=complex)\n",
    "time = np.zeros(Nsteps)\n",
    "energy = np.zeros(Nsteps)\n",
    "g = np.zeros(Nsteps,dtype=complex)\n",
    "\n",
    "### Run the dynamics for both systems simultaneously\n",
    "for i in range(0,Nsteps):\n",
    "    ### reciprocal axis\n",
    "    energy[i] = np.pi*2*(i+1)/(Nsteps*dt)\n",
    "    ### time access\n",
    "    time[i] = i*dt\n",
    "    ### time-dependent electric field\n",
    "    ez[i] = EField(i*dt, tau)*E_au_to_si\n",
    "    ### update to the Density matrix using RK4\n",
    "    DA_RK4 = RK4(HA0, MUZA, VintA, gammaA, DA_RK4, dt, dt*i, tau)\n",
    "    ### use np.matmul to take the matrix product of DA_RK4 and MUZA\n",
    "    DMA = np.matmul(DA_RK4, MUZA)\n",
    "    ### DMA is now the matrix product of DA_RK4 and MUZA\n",
    "    ### TO GET THE TRACE, WE JUST SUM THE DIAGONAL ELEMENTS...\n",
    "    ### AND WE WANT TO STORE THE TRACE DIRECTLY IN OUR MUA_OF_T \n",
    "    ### ARRAY FOR USE IN THE Vint FUNCTION\n",
    "    MUA_OF_T[2] = (DMA[0][0]+DMA[1][1])*mu_au_to_si\n",
    "    muA_of_t_rk4[i] = MUA_OF_T[2]\n",
    "    ### Vint function currently returns a scalar value..\n",
    "    ### these scalar values are the off-diagonal elements of the VintB/VintA \n",
    "    ### matrices we will pass to RK4\n",
    "    g[i] = Vint(R_VEC, MUB_VEC, MUA_OF_T)\n",
    "    VintB[0][1] = Vint(R_VEC, MUB_VEC, MUA_OF_T)\n",
    "    VintB[1][0] = Vint(R_VEC, MUB_VEC, MUA_OF_T)\n",
    "\n",
    "    #### NOW CALL TRY TO REPEAT THE PROCESS TO UPDATE DB_RK4 HERE!\n",
    "    DB_RK4 = RK4(HB0, MUZB, VintB, gammaB, DB_RK4, dt, dt*i, tau)\n",
    "    DMB = np.matmul(DB_RK4, MUZB)\n",
    "    MUB_OF_T[2] = (DMB[0][0]+DMB[1][1])*mu_au_to_si\n",
    "    muB_of_t_rk4[i] = MUB_OF_T[2]\n",
    "    VintA[0][1] = Vint(R_VEC, MUA_VEC, MUB_OF_T)\n",
    "    VintA[1][0] = Vint(R_VEC, MUA_VEC, MUB_OF_T)\n",
    "    \n",
    "\n",
    "print(energy[0])\n",
    "plt.plot(time, muA_of_t_rk4, 'red', time, muB_of_t_rk4, 'b--', time, ez, 'green')\n",
    "plt.plot(time, g, 'green')\n",
    "plt.show()\n"
   ]
  },
  {
   "cell_type": "code",
   "execution_count": 136,
   "metadata": {},
   "outputs": [
    {
     "data": {
      "image/png": "[encoded data removed]",
      "text/plain": [
       "<Figure size 432x288 with 1 Axes>"
      ]
     },
     "metadata": {
      "needs_background": "light"
     },
     "output_type": "display_data"
    },
    {
     "data": {
      "image/png": "[encoded data removed]",
      "text/plain": [
       "<Figure size 432x288 with 1 Axes>"
      ]
     },
     "metadata": {
      "needs_background": "light"
     },
     "output_type": "display_data"
    }
   ],
   "source": [
    "plt.plot(time, muA_of_t_rk4, 'red', time, muB_of_t_rk4, 'b--')\n",
    "plt.show()\n",
    "plt.plot(time, g, 'blue')\n",
    "plt.show()\n"
   ]
  },
  {
   "cell_type": "code",
   "execution_count": 138,
   "metadata": {},
   "outputs": [
    {
     "data": {
      "image/png": "[encoded data removed]",
      "text/plain": [
       "<Figure size 432x288 with 1 Axes>"
      ]
     },
     "metadata": {
      "needs_background": "light"
     },
     "output_type": "display_data"
    }
   ],
   "source": [
    "### omega below will be in atomic units... use this to convert to SI units (i.e. s^-1)\n",
    "omega_au = 4.134147e+16\n",
    "plt.plot(time, muA_of_t_rk4)\n",
    "plt.xlim(0,1000)\n",
    "plt.show()\n",
    "dipole = np.zeros(2*Nsteps,dtype=complex)\n",
    "efield = np.zeros(2*Nsteps,dtype=complex)\n",
    "nps = np.zeros(2*Nsteps,dtype=complex)\n",
    "efs = np.zeros(2*Nsteps,dtype=complex)\n",
    "ome = np.zeros(2*Nsteps)\n",
    "alpha = np.zeros(2*Nsteps,dtype=complex)\n",
    "sigma_abs = np.zeros(2*Nsteps)\n",
    "for i in range(0,Nsteps):\n",
    "    dipole[i] = muA_of_t_rk4[i]\n",
    "    efield[i] = ez[i]\n",
    "\n",
    "for i in range(0,2*Nsteps):\n",
    "    ome[i] = 2*np.pi*i/(2*Nsteps*dt)"
   ]
  },
  {
   "cell_type": "code",
   "execution_count": null,
   "metadata": {},
   "outputs": [],
   "source": []
  },
  {
   "cell_type": "code",
   "execution_count": 139,
   "metadata": {},
   "outputs": [],
   "source": [
    "nps = np.fft.fft(dipole)\n",
    "efs = np.fft.fft(efield)\n",
    "for i in range(0,2*Nsteps):\n",
    "    omega_si = ome[i]*omega_au\n",
    "    k = omega_si/2.99792458e+8\n",
    "    sig_pre = k/(8.854187e-12)\n",
    "    alpha[i] = nps[i]/efs[i]\n",
    "    sigma_abs[i] = sig_pre * np.imag(alpha[i])\n",
    "#ez_freq = np.fft.fft(ez)/(Nsteps)"
   ]
  },
  {
   "cell_type": "code",
   "execution_count": 140,
   "metadata": {},
   "outputs": [
    {
     "data": {
      "text/plain": [
       "(0, 1e-16)"
      ]
     },
     "execution_count": 140,
     "metadata": {},
     "output_type": "execute_result"
    },
    {
     "data": {
      "image/png": "[encoded data removed]",
      "text/plain": [
       "<Figure size 432x288 with 1 Axes>"
      ]
     },
     "metadata": {
      "needs_background": "light"
     },
     "output_type": "display_data"
    }
   ],
   "source": [
    "plt.plot(ome*27.211, -1*sigma_abs)\n",
    "plt.xlim(1,3)\n",
    "plt.ylim(0,1e-16)"
   ]
  },
  {
   "cell_type": "code",
   "execution_count": null,
   "metadata": {},
   "outputs": [],
   "source": []
  },
  {
   "cell_type": "code",
   "execution_count": null,
   "metadata": {},
   "outputs": [],
   "source": []
  },
  {
   "cell_type": "code",
   "execution_count": null,
   "metadata": {},
   "outputs": [],
   "source": []
  },
  {
   "cell_type": "code",
   "execution_count": null,
   "metadata": {},
   "outputs": [],
   "source": []
  }
 ],
 "metadata": {
  "kernelspec": {
   "display_name": "Python 3",
   "language": "python",
   "name": "python3"
  },
  "language_info": {
   "codemirror_mode": {
    "name": "ipython",
    "version": 3
   },
   "file_extension": ".py",
   "mimetype": "text/x-python",
   "name": "python",
   "nbconvert_exporter": "python",
   "pygments_lexer": "ipython3",
   "version": "3.7.3"
  }
 },
 "nbformat": 4,
 "nbformat_minor": 2
}
