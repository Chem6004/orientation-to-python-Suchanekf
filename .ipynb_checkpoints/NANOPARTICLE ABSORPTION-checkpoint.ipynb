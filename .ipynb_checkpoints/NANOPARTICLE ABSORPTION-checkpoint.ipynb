{
 "cells": [
  {
   "cell_type": "markdown",
   "metadata": {},
   "source": [
    "### Mie First\n",
    "Mie theory provides a route to the exact solution to Maxwell's equations for light interacting with a spherical object; this is done by expanding the incident and scattered\n",
    "light waves in a basis of multi-polar functions; hence one usually speaks about the dipolar contribution to scattering, the quadrupolar contribution, the octupolar, and so on.  For very large particles, many orders of this expansion may be needed, but for small particles the scattering and absorption is dominated by the dipolar contribution.  Hence, for spherical nanoparticles that are less than or equal to about 10 nm in diameter, the Mie theory expansion is truncated after only the first term.  As a concrete example, the Mie theory expression for the absorption of a small spherical nanoparticle is as follows:\n",
    "\n",
    "\\begin{equation}\n",
    "\\sigma_{abs}(\\lambda) = \\frac{2 \\pi}{\\lambda} {\\rm Im}\\left( \\alpha(\\lambda) \\right),\n",
    "\\end{equation}\n",
    "where $\\alpha(\\lambda)$ is the dipole polarizability given by\n",
    "\\begin{equation}\n",
    "\\alpha(\\lambda) = 4 \\pi r^3 \\left( \\frac{\\epsilon_p(\\lambda) - \\epsilon_s}{\\epsilon_p(\\lambda) + 2\\epsilon_s} \\right)\n",
    "\\end{equation}\n",
    "where $r$ is the radius of the particle, $\\epsilon_p(\\lambda)$ denotes the wavelength-dependent dielectric function of the material the particle is made from, $\\epsilon_s$ denotes the dielectric function of the surroundings (or solvent) that the particle is immersed in, and ${\\rm Im}$ means we will only take the imaginary part of the quotient (the dielectric function of the particle will typically be complex; if it is not, there will be no absorption).\n",
    "\n",
    "We can use WPTherml to get the refractive index of materials as a function of wavelength, which is equivalent to the dielectric function as a function of wavelength by\n",
    "\\begin{equation}\n",
    "\\epsilon_p(\\lambda) = n_p(\\lambda)^2,\n",
    "\\end{equation}\n",
    "where $n_p(\\lambda)$ is the refractive index of the particle. \n"
   ]
  },
  {
   "cell_type": "code",
   "execution_count": 5,
   "metadata": {},
   "outputs": [
    {
     "ename": "ModuleNotFoundError",
     "evalue": "No module named 'wptherml'",
     "output_type": "error",
     "traceback": [
      "\u001b[0;31m---------------------------------------------------------------------------\u001b[0m",
      "\u001b[0;31mModuleNotFoundError\u001b[0m                       Traceback (most recent call last)",
      "\u001b[0;32m<ipython-input-5-ffc2f05c492b>\u001b[0m in \u001b[0;36m<module>\u001b[0;34m()\u001b[0m\n\u001b[1;32m      1\u001b[0m \u001b[0;31m#from wptherml.wpml import multilayer\u001b[0m\u001b[0;34m\u001b[0m\u001b[0;34m\u001b[0m\u001b[0;34m\u001b[0m\u001b[0m\n\u001b[1;32m      2\u001b[0m \u001b[0;32mfrom\u001b[0m \u001b[0mmatplotlib\u001b[0m \u001b[0;32mimport\u001b[0m \u001b[0mpyplot\u001b[0m \u001b[0;32mas\u001b[0m \u001b[0mplt\u001b[0m\u001b[0;34m\u001b[0m\u001b[0;34m\u001b[0m\u001b[0m\n\u001b[0;32m----> 3\u001b[0;31m \u001b[0;32mfrom\u001b[0m \u001b[0mwptherml\u001b[0m\u001b[0;34m.\u001b[0m\u001b[0mdatalib\u001b[0m \u001b[0;32mimport\u001b[0m \u001b[0mdatalib\u001b[0m\u001b[0;34m\u001b[0m\u001b[0;34m\u001b[0m\u001b[0m\n\u001b[0m\u001b[1;32m      4\u001b[0m \u001b[0;32mimport\u001b[0m \u001b[0mnumpy\u001b[0m \u001b[0;32mas\u001b[0m \u001b[0mnp\u001b[0m\u001b[0;34m\u001b[0m\u001b[0;34m\u001b[0m\u001b[0m\n\u001b[1;32m      5\u001b[0m \u001b[0;32mfrom\u001b[0m \u001b[0mnumpy\u001b[0m \u001b[0;32mimport\u001b[0m \u001b[0mlinalg\u001b[0m \u001b[0;32mas\u001b[0m \u001b[0mLA\u001b[0m\u001b[0;34m\u001b[0m\u001b[0;34m\u001b[0m\u001b[0m\n",
      "\u001b[0;31mModuleNotFoundError\u001b[0m: No module named 'wptherml'"
     ]
    }
   ],
   "source": [
    "#from wptherml.wpml import multilayer\n",
    "from matplotlib import pyplot as plt\n",
    "from wptherml.datalib import datalib\n",
    "import numpy as np\n",
    "from numpy import linalg as LA\n",
    "import math"
   ]
  },
  {
   "cell_type": "code",
   "execution_count": 1,
   "metadata": {},
   "outputs": [
    {
     "ename": "NameError",
     "evalue": "name 'multilayer' is not defined",
     "output_type": "error",
     "traceback": [
      "\u001b[0;31m---------------------------------------------------------------------------\u001b[0m",
      "\u001b[0;31mNameError\u001b[0m                                 Traceback (most recent call last)",
      "\u001b[0;32m<ipython-input-1-023c85740823>\u001b[0m in \u001b[0;36m<module>\u001b[0;34m()\u001b[0m\n\u001b[1;32m      8\u001b[0m \u001b[0;34m\u001b[0m\u001b[0m\n\u001b[1;32m      9\u001b[0m \u001b[0;31m### create the silver object - call it sphere for no particular reason\u001b[0m\u001b[0;34m\u001b[0m\u001b[0;34m\u001b[0m\u001b[0;34m\u001b[0m\u001b[0m\n\u001b[0;32m---> 10\u001b[0;31m \u001b[0msphere\u001b[0m \u001b[0;34m=\u001b[0m \u001b[0mmultilayer\u001b[0m\u001b[0;34m(\u001b[0m\u001b[0mstructure\u001b[0m\u001b[0;34m)\u001b[0m\u001b[0;34m\u001b[0m\u001b[0;34m\u001b[0m\u001b[0m\n\u001b[0m\u001b[1;32m     11\u001b[0m \u001b[0;31m### get the refractive index of Ag (since it is layer 1 based on the structure above)\u001b[0m\u001b[0;34m\u001b[0m\u001b[0;34m\u001b[0m\u001b[0;34m\u001b[0m\u001b[0m\n\u001b[1;32m     12\u001b[0m \u001b[0mn_Ag\u001b[0m \u001b[0;34m=\u001b[0m \u001b[0msphere\u001b[0m\u001b[0;34m.\u001b[0m\u001b[0mlayer_ri\u001b[0m\u001b[0;34m(\u001b[0m\u001b[0;36m1\u001b[0m\u001b[0;34m)\u001b[0m\u001b[0;34m\u001b[0m\u001b[0;34m\u001b[0m\u001b[0m\n",
      "\u001b[0;31mNameError\u001b[0m: name 'multilayer' is not defined"
     ]
    }
   ],
   "source": [
    "structure = {\n",
    "\n",
    "        'Material_List': ['Air', 'Ag', 'Air'],\n",
    "        'Thickness_List': [0,  200e-9, 0],\n",
    "        'Lambda_List': [200e-9, 700e-9, 2000],\n",
    "     \n",
    "        }\n",
    "\n",
    "### create the silver object - call it sphere for no particular reason\n",
    "sphere = multilayer(structure)\n",
    "### get the refractive index of Ag (since it is layer 1 based on the structure above)\n",
    "n_Ag = sphere.layer_ri(1)\n",
    "### get the dielectric function of Ag\n",
    "eps_Ag = n_Ag * n_Ag\n",
    "\n",
    "'''Lets compute the Mie theory absorption of a 3 nm Ag particle in water, which \n",
    "   has refractive index = 1.33, here!'''\n",
    "r = 3e-9 ### fill in radius here, use meters!\n",
    "eps_s =  1.00 ### fill in dielectric function of water here!\n",
    "quotient = (eps_Ag - eps_s)/(eps_Ag + 2*eps_s) ### compute the quotient whose Imaginary part you need from Mie theory expression here\n",
    "alpha = 4*np.pi*r**3 * quotient\n",
    "pre = 2*np.pi/sphere.lambda_array ### compute pre-factor that depends on wavelength and radius here!\n",
    "sigma_abs = pre*np.imag(alpha) ### compute full absorption spectrum here!\n",
    "\n",
    "plt.plot(1240/(sphere.lambda_array*1e9), sigma_abs, 'red')\n",
    "plt.xlim(1.5, 4)\n",
    "plt.show()\n",
    "\n",
    "lidx = np.argmax(sigma_abs)\n",
    "print(lidx)\n",
    "print(sigma_abs[lidx])\n",
    "print(sphere.lambda_array[lidx])"
   ]
  },
  {
   "cell_type": "markdown",
   "metadata": {},
   "source": [
    "A slightly more sophisticated update scheme is given by the family of methods known as \n",
    "[Runge-Kutta methods](https://en.wikipedia.org/wiki/Runge%E2%80%93Kutta_methods), and a particular implementation of this method can be found below in the function called *RK4*.\n",
    "\n"
   ]
  },
  {
   "cell_type": "markdown",
   "metadata": {},
   "source": []
  },
  {
   "cell_type": "markdown",
   "metadata": {},
   "source": [
    "We will compare the results of the two methods (RK4 and Euler) in \n",
    "reproducing the Mie theory spectrum for a 3 nm Ag atom.  \n",
    "The following Hamiltonian parameters will be used, and should in principle provide good agreement provided the equations of motion are accurately solved:\n",
    "In atomic units, $E_2 = 0.1275, \\mu_{12} = 58.$, and $\\gamma=0.0017$ gives excellent agreement with the Mie theory spectrum, as we will see below."
   ]
  },
  {
   "cell_type": "code",
   "execution_count": 6,
   "metadata": {},
   "outputs": [],
   "source": [
    "import math\n",
    "\n",
    "def Euler (H0, mu, Vint, gamma, D, h, t, tau):  \n",
    "    ###Defined Hamiltonian at the current time    \n",
    "    H = H0- EField(t, tau) * mu \n",
    "    ### Define the time derivarive of our density matrix at the current time\n",
    "    ### by evaluating the Liouville-Lindblad equation\n",
    "    Ddot = Liouville(H,D) + Lindblad(D, gamma)\n",
    "    ###\n",
    "    Dnew = D + h*Ddot\n",
    "    return Dnew\n",
    "\n",
    "def Lindblad(D, gamma):\n",
    "    dim = len(D)\n",
    "    LD = np.zeros_like(D)\n",
    "    ### need |g><g|\n",
    "    bra_1 = CreateBas(dim, 0)\n",
    "    gm = Form_Rho(bra_1)\n",
    "    \n",
    "    for k in range(1,dim):\n",
    "        bra_k = CreateBas(dim, k)\n",
    "        km = Form_Rho(bra_k)\n",
    "        \n",
    "        ### first term 2*gam*<k|D|k>|g><g|\n",
    "        t1 = 2*gamma*D[k][k]*gm\n",
    "        ### second term is |k><k|*D\n",
    "        t2 = np.dot(km,D)\n",
    "        ### third term is  D*|k><k|\n",
    "        t3 = np.dot(D, km)\n",
    "        LDA = LD + t1 - gamma*t2 - gamma*t3\n",
    "        \n",
    "    return LD\n",
    "       \n",
    "### Take commutator of H and D to give Ddot\n",
    "def Liouville(H, D):\n",
    "    ci = 0.+1j\n",
    "    return -ci*(np.dot(H,D) - np.dot(D, H))\n",
    "\n",
    "def EField(t, tau):\n",
    "    Ef = 0\n",
    "    if t<tau:\n",
    "        Ef = 0.001*np.sin(t*np.pi/tau)*np.sin(t*np.pi/tau)*np.sin(0.1192*t)\n",
    "    return Ef\n",
    "\n",
    "def Form_Rho(Psi):\n",
    "\n",
    "    D = np.outer(Psi,np.conj(Psi))\n",
    "    return D\n",
    "\n",
    "### Creates basis vector for state k\n",
    "### k=0 -> ground state, k=1 -> first excited-state, etc\n",
    "def CreateBas(dim, k):\n",
    "    bas = np.zeros(dim)\n",
    "    bas[k] = 1\n",
    "    return bas\n",
    "\n",
    "\n",
    "### Vint will take three vectors: \n",
    "### R the separation vector, \n",
    "### MUA is the vector representing the\n",
    "### transition dipole moment on one of your particles (does not\n",
    "### change with time) and MUB is the vector\n",
    "### representing the instantaneous dipole moment on the other particle\n",
    "### (it does change with time)\n",
    "def Vint(R, MUA, MUB):\n",
    "    n = 1\n",
    "    normr = math.sqrt(np.dot(R,R))\n",
    "    oer2 = 1./(normr**2)\n",
    "    pre = 1./(n**2 * normr**3)\n",
    "    \n",
    "    t1 = np.dot(MUA,MUB)\n",
    "    t2 = np.dot(MUA,R)\n",
    "    t3 = np.dot(R,MUB)\n",
    "    \n",
    "    Vint_val = pre*(t1 - 3*oer2*t2*t3)\n",
    "    \n",
    "    return Vint_val"
   ]
  },
  {
   "cell_type": "code",
   "execution_count": 3,
   "metadata": {},
   "outputs": [],
   "source": [
    "def RK4(H0, mu, Vint, gamma, D, h, t, tau):\n",
    "    k1 = np.zeros_like(D)\n",
    "    k2 = np.zeros_like(D)\n",
    "    k3 = np.zeros_like(D)\n",
    "    k4 = np.zeros_like(D)\n",
    "    D1 = np.zeros_like(D)\n",
    "    D2 = np.zeros_like(D)\n",
    "    D3 = np.zeros_like(D)\n",
    "    D4 = np.zeros_like(D)\n",
    "    Df = np.zeros_like(D)\n",
    "    \n",
    "    ### Get k1\n",
    "    H1 = H0 - EField(t, tau)*mu + Vint\n",
    "    D1 = D    \n",
    "    k1 = h*Liouville(H1,D1) + h*Lindblad(D1, gamma)\n",
    "    \n",
    "    ## Update H and D and get k2\n",
    "    H2 = H0 - EField(t+h/2, tau)*mu \n",
    "    D2 = D+k1/2.\n",
    "    k2 = h*Liouville(H2, D2) + h*Lindblad(H2, gamma)\n",
    "    \n",
    "    ### UPdate H and D and get k3\n",
    "    H3 = H2\n",
    "    D3 = D+k2/2\n",
    "    k3 = h*Liouville(H3, D3) + h*Lindblad(D3, gamma) \n",
    "    \n",
    "    ### Update H and D and get K4\n",
    "    H4 = H0 - EField(t+h, tau)*mu + Vint\n",
    "    D4 = D+k3\n",
    "    k4 = h*Liouville(H4, D4) + h*Lindblad(D4, gamma)\n",
    "    \n",
    "    Df = D + (1/6.)*(k1 + 2.*k2 + 2*k3 + k4)\n",
    "    return Df"
   ]
  },
  {
   "cell_type": "code",
   "execution_count": 8,
   "metadata": {},
   "outputs": [
    {
     "name": "stderr",
     "output_type": "stream",
     "text": [
      "/Users/jay/anaconda3/lib/python3.6/site-packages/ipykernel_launcher.py:67: ComplexWarning: Casting complex values to real discards the imaginary part\n",
      "/Users/jay/anaconda3/lib/python3.6/site-packages/ipykernel_launcher.py:37: RuntimeWarning: invalid value encountered in multiply\n"
     ]
    },
    {
     "name": "stdout",
     "output_type": "stream",
     "text": [
      "62.83185307179586\n"
     ]
    }
   ],
   "source": [
    "import numpy as np\n",
    "### Set up some parameters for the quantum dynamics simulation\n",
    "dt = 0.1\n",
    "tau = 100 #150.\n",
    "gammaA = 0.0017\n",
    "gammaB = 0.0017\n",
    "eps0 = 8.854e-12\n",
    "muA = 8.854e-12\n",
    "muB = 8.854e-12\n",
    "#mu_au_to_si = 8.47835326e-30\n",
    "#E_au_to_si = 5.14220652e11\n",
    "mu_zA = 58.\n",
    "mu_zB = 58.\n",
    "R = 1e-9\n",
    "### Create some arrays\n",
    "MUZA = np.zeros((2,2),dtype=complex)\n",
    "VintA = np.zeros((2,2),dtype=complex)\n",
    "### Density matrix for RK4 updates\n",
    "DA_RK4 = np.zeros((2,2),dtype=complex)\n",
    "### Density matrix for Euler updates\n",
    "DA_EU = np.zeros((2,2),dtype=complex)\n",
    "HA0 = np.zeros((2,2))\n",
    "### Create some arrays\n",
    "MUZB= np.zeros((2,2),dtype=complex)\n",
    "VintB = np.zeros((2,2),dtype=complex)\n",
    "### Density matrix for RK4 updates\n",
    "DB_RK4 = np.zeros((2,2),dtype=complex)\n",
    "### Density matrix for Euler updates\n",
    "DB_EU = np.zeros((2,2),dtype=complex)\n",
    "HB0 = np.zeros((2,2))\n",
    "\n",
    "### initialize values of the arrays for Hamiltonian and Density matrices\n",
    "HA0[0][0] = 0.1275\n",
    "DA_RK4[0][0] = 1.+0j\n",
    "DA_EU[0][0] = 1.+0j\n",
    "MUZA[0][1] = mu_zA\n",
    "MUZA[1][0] = mu_zA\n",
    "### initialize values of the arrays for Hamiltonian and Density matrices\n",
    "HB0[0][0] = 0.1275\n",
    "DB_RK4[0][0] = 1.+0j\n",
    "DB_EU[0][0] = 1.+0j\n",
    "MUZB[0][1] = mu_zB\n",
    "MUZB[1][0] = mu_zB\n",
    "\n",
    "### create arrays for time-dependent quantities\n",
    "Nsteps = 40000\n",
    "ez = np.zeros(Nsteps)\n",
    "\n",
    "### need vectors to pass to the function Vint...\n",
    "### these vectors will store information about R, MUZA, MUZB (all static)\n",
    "### and we will also create additional vectors that store the time-dependent \n",
    "### quantities\n",
    "### arrays for static quantities first\n",
    "### there are 3 components for the x-, y-, and z- components\n",
    "### of these vector quantities\n",
    "MUA_VEC = np.zeros(Nsteps,dtype=complex)\n",
    "MUB_VEC = np.zeros(Nsteps,dtype=complex)\n",
    "R_VEC = np.zeros(Nsteps,dtype=complex)\n",
    "### actually assign the values of the static quantities...\n",
    "### note only the z-component (index 2) is non-zero for now!\n",
    "MUA_VEC[2] = mu_zA\n",
    "MUB_VEC[2] = mu_zB\n",
    "R_VEC[2] = R\n",
    "\n",
    "\n",
    "\n",
    "### time-dependent quantities - still x-, y-, and z- components\n",
    "### in principle, though only the z-component (index 2) will be non-zero\n",
    "MUA_OF_T = np.zeros(Nsteps,dtype=complex)\n",
    "MUB_OF_T = np.zeros(Nsteps,dtype=complex)\n",
    "\n",
    "### array for mu(t) for RK4 updates\n",
    "MUA_of_t_RK4 = np.zeros(Nsteps,dtype=complex)\n",
    "MUB_of_t_RK4 = np.zeros(Nsteps,dtype=complex)\n",
    "### array for mu(t) for Euler updates\n",
    "MUA_of_t_EU = np.zeros(Nsteps,dtype=complex)\n",
    "MUB_of_t_EU = np.zeros(Nsteps,dtype=complex)\n",
    "time = np.zeros(Nsteps)\n",
    "energy = np.zeros(Nsteps)\n",
    "\n",
    "### Run the dynamics for both systems simultaneously\n",
    "for i in range(0,Nsteps):\n",
    "    ### reciprocal axis\n",
    "    energy[i] = np.pi*2*(i+1)/(Nsteps*dt)\n",
    "    ### time access\n",
    "    time[i] = i*dt\n",
    "    ### time-dependent electric field\n",
    "    ez[i] = EField(i*dt, tau)\n",
    "    ### update to the Density matrix using RK4\n",
    "    DA_RK4 = RK4(HA0, MUZA, VintA, gammaA, DA_RK4, dt, dt*i, tau)\n",
    "    DA_EULER = Euler(HA0, MUZA, VintA, gammaA, DA_RK4, dt, dt*i, tau)\n",
    "    ### use np.matmul to take the matrix product of DA_RK4 and MUZA\n",
    "    DMA = np.matmul(DA_RK4, MUZA)\n",
    "    ### DMA is now the matrix product of DA_RK4 and MUZA\n",
    "    ### TO GET THE TRACE, WE JUST SUM THE DIAGONAL ELEMENTS...\n",
    "    ### AND WE WANT TO STORE THE TRACE DIRECTLY IN OUR MUA_OF_T \n",
    "    ### ARRAY FOR USE IN THE Vint FUNCTION\n",
    "    MUA_OF_T[2] = DMA[0][0]+DMA[1][1]\n",
    "    ### Vint function currently returns a scalar value..\n",
    "    ### these scalar values are the off-diagonal elements of the VintB/VintA \n",
    "    ### matrices we will pass to RK4\n",
    "    VintB[0][1] = Vint(R_VEC, MUB_VEC, MUA_OF_T)\n",
    "    VintB[1][0] = Vint(R_VEC, MUB_VEC, MUA_OF_T)\n",
    "\n",
    "    #### NOW CALL TRY TO REPEAT THE PROCESS TO UPDATE DB_RK4 HERE!\n",
    "    DB_RK4 = RK4(HB0, MUZB, VintB, gammaB, DB_RK4, dt, dt*i, tau)\n",
    "    DB_EULER = Euler(HB0, MUZB, VintB, gammaB, DB_RK4, dt, dt*i, tau)\n",
    "    DMB = np.matmul(DB_RK4, MUZB)\n",
    "    MUB_OF_T[2] = DMB[0][0]+DMB[1][1]\n",
    "    VintA[0][1] = Vint(R_VEC, MUA_VEC, MUB_OF_T)\n",
    "    VintA[1][0] = Vint(R_VEC, MUA_VEC, MUB_OF_T)\n",
    "    \n",
    "\n",
    "print(energy[39999])\n"
   ]
  },
  {
   "cell_type": "code",
   "execution_count": 9,
   "metadata": {},
   "outputs": [
    {
     "data": {
      "text/plain": [
       "40000"
      ]
     },
     "execution_count": 9,
     "metadata": {},
     "output_type": "execute_result"
    }
   ],
   "source": [
    "type(MUA_of_t_EU)\n",
    "len(MUA_of_t_EU)"
   ]
  },
  {
   "cell_type": "code",
   "execution_count": 10,
   "metadata": {},
   "outputs": [
    {
     "data": {
      "text/plain": [
       "40000"
      ]
     },
     "execution_count": 10,
     "metadata": {},
     "output_type": "execute_result"
    }
   ],
   "source": [
    "type(MUA_OF_T)\n",
    "len(MUA_OF_T)"
   ]
  },
  {
   "cell_type": "code",
   "execution_count": 11,
   "metadata": {},
   "outputs": [
    {
     "name": "stderr",
     "output_type": "stream",
     "text": [
      "/Users/jay/anaconda3/lib/python3.6/site-packages/numpy/core/numeric.py:492: ComplexWarning: Casting complex values to real discards the imaginary part\n",
      "  return array(a, dtype, copy=False, order=order)\n"
     ]
    },
    {
     "data": {
      "image/png": "[encoded data removed]",
      "text/plain": [
       "<matplotlib.figure.Figure at 0x10572b1d0>"
      ]
     },
     "metadata": {},
     "output_type": "display_data"
    }
   ],
   "source": [
    "### Run the dynamics 1\n",
    "plt.plot(time, MUA_of_t_EU, 'red', time, MUA_OF_T, 'b--', time, ez, 'green')\n",
    "plt.xlim(0,120)\n",
    "plt.show()"
   ]
  },
  {
   "cell_type": "code",
   "execution_count": 12,
   "metadata": {
    "scrolled": true
   },
   "outputs": [
    {
     "name": "stderr",
     "output_type": "stream",
     "text": [
      "/Users/jay/anaconda3/lib/python3.6/site-packages/numpy/core/numeric.py:492: ComplexWarning: Casting complex values to real discards the imaginary part\n",
      "  return array(a, dtype, copy=False, order=order)\n"
     ]
    },
    {
     "data": {
      "image/png": "[encoded data removed]",
      "text/plain": [
       "<matplotlib.figure.Figure at 0x1083116a0>"
      ]
     },
     "metadata": {},
     "output_type": "display_data"
    }
   ],
   "source": [
    "### Run the dynamics 2\n",
    "plt.plot(time, MUB_of_t_EU, 'black', time, MUB_OF_T, 'b--', time, ez, 'yellow')\n",
    "plt.xlim(0,120)\n",
    "plt.show()"
   ]
  },
  {
   "cell_type": "code",
   "execution_count": 13,
   "metadata": {},
   "outputs": [
    {
     "ename": "NameError",
     "evalue": "name 'sphere' is not defined",
     "output_type": "error",
     "traceback": [
      "\u001b[0;31m---------------------------------------------------------------------------\u001b[0m",
      "\u001b[0;31mNameError\u001b[0m                                 Traceback (most recent call last)",
      "\u001b[0;32m<ipython-input-13-5c12ac64f853>\u001b[0m in \u001b[0;36m<module>\u001b[0;34m()\u001b[0m\n\u001b[1;32m      7\u001b[0m \u001b[0msigma_rk4_A\u001b[0m \u001b[0;34m=\u001b[0m \u001b[0;36m2\u001b[0m\u001b[0;34m*\u001b[0m\u001b[0mnp\u001b[0m\u001b[0;34m.\u001b[0m\u001b[0mpi\u001b[0m\u001b[0;34m/\u001b[0m\u001b[0;34m(\u001b[0m\u001b[0mlam\u001b[0m\u001b[0;34m*\u001b[0m\u001b[0meps0\u001b[0m\u001b[0;34m)\u001b[0m \u001b[0;34m*\u001b[0m \u001b[0mnp\u001b[0m\u001b[0;34m.\u001b[0m\u001b[0mimag\u001b[0m\u001b[0;34m(\u001b[0m\u001b[0malphaA_rk4\u001b[0m\u001b[0;34m)\u001b[0m\u001b[0;34m\u001b[0m\u001b[0;34m\u001b[0m\u001b[0m\n\u001b[1;32m      8\u001b[0m \u001b[0mplt\u001b[0m\u001b[0;34m.\u001b[0m\u001b[0mplot\u001b[0m\u001b[0;34m(\u001b[0m\u001b[0menergy\u001b[0m\u001b[0;34m*\u001b[0m\u001b[0;36m27.211\u001b[0m\u001b[0;34m,\u001b[0m \u001b[0msigma_rk4_A\u001b[0m\u001b[0;34m,\u001b[0m \u001b[0;34m'red'\u001b[0m\u001b[0;34m)\u001b[0m\u001b[0;34m\u001b[0m\u001b[0;34m\u001b[0m\u001b[0m\n\u001b[0;32m----> 9\u001b[0;31m \u001b[0mplt\u001b[0m\u001b[0;34m.\u001b[0m\u001b[0mplot\u001b[0m\u001b[0;34m(\u001b[0m\u001b[0;36m1240\u001b[0m\u001b[0;34m/\u001b[0m\u001b[0;34m(\u001b[0m\u001b[0msphere\u001b[0m\u001b[0;34m.\u001b[0m\u001b[0mlambda_array\u001b[0m\u001b[0;34m*\u001b[0m\u001b[0;36m1e9\u001b[0m\u001b[0;34m)\u001b[0m\u001b[0;34m,\u001b[0m \u001b[0msigma_abs\u001b[0m\u001b[0;34m,\u001b[0m \u001b[0;34m'b--'\u001b[0m\u001b[0;34m)\u001b[0m\u001b[0;34m\u001b[0m\u001b[0;34m\u001b[0m\u001b[0m\n\u001b[0m\u001b[1;32m     10\u001b[0m \u001b[0mplt\u001b[0m\u001b[0;34m.\u001b[0m\u001b[0mxlim\u001b[0m\u001b[0;34m(\u001b[0m\u001b[0;36m1.5\u001b[0m\u001b[0;34m,\u001b[0m\u001b[0;36m4.0\u001b[0m\u001b[0;34m)\u001b[0m\u001b[0;34m\u001b[0m\u001b[0;34m\u001b[0m\u001b[0m\n\u001b[1;32m     11\u001b[0m \u001b[0mplt\u001b[0m\u001b[0;34m.\u001b[0m\u001b[0mylim\u001b[0m\u001b[0;34m(\u001b[0m\u001b[0;36m0\u001b[0m\u001b[0;34m,\u001b[0m\u001b[0;36m1e-16\u001b[0m\u001b[0;34m)\u001b[0m\u001b[0;34m\u001b[0m\u001b[0;34m\u001b[0m\u001b[0m\n",
      "\u001b[0;31mNameError\u001b[0m: name 'sphere' is not defined"
     ]
    },
    {
     "data": {
      "image/png": "[encoded data removed]",
      "text/plain": [
       "<matplotlib.figure.Figure at 0x105720a90>"
      ]
     },
     "metadata": {},
     "output_type": "display_data"
    }
   ],
   "source": [
    "\n",
    "MUA_freq_rk4 = np.fft.fft(MUA_OF_T)/(Nsteps)\n",
    "ez_freq = np.fft.fft(ez)/(Nsteps)\n",
    "alphaA_rk4 = MUA_freq_rk4/ez_freq\n",
    "lam = 1e-9*1240/(energy*27.211) ### in nm\n",
    "\n",
    "sigma_rk4_A = 2*np.pi/(lam*eps0) * np.imag(alphaA_rk4)\n",
    "plt.plot(energy*27.211, sigma_rk4_A, 'red')\n",
    "plt.plot(1240/(sphere.lambda_array*1e9), sigma_abs, 'b--')\n",
    "plt.xlim(1.5,4.0)\n",
    "plt.ylim(0,1e-16)\n",
    "plt.show()\n"
   ]
  },
  {
   "cell_type": "code",
   "execution_count": null,
   "metadata": {},
   "outputs": [],
   "source": []
  }
 ],
 "metadata": {
  "kernelspec": {
   "display_name": "Python 3",
   "language": "python",
   "name": "python3"
  },
  "language_info": {
   "codemirror_mode": {
    "name": "ipython",
    "version": 3
   },
   "file_extension": ".py",
   "mimetype": "text/x-python",
   "name": "python",
   "nbconvert_exporter": "python",
   "pygments_lexer": "ipython3",
   "version": "3.6.8"
  }
 },
 "nbformat": 4,
 "nbformat_minor": 2
}
